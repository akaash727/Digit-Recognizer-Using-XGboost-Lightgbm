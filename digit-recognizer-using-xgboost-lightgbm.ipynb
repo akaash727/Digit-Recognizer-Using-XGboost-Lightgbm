{
 "cells": [
  {
   "cell_type": "code",
   "execution_count": 1,
   "id": "exclusive-torture",
   "metadata": {
    "execution": {
     "iopub.execute_input": "2021-04-23T15:07:23.219360Z",
     "iopub.status.busy": "2021-04-23T15:07:23.218104Z",
     "iopub.status.idle": "2021-04-23T15:07:24.172236Z",
     "shell.execute_reply": "2021-04-23T15:07:24.170244Z"
    },
    "papermill": {
     "duration": 0.97487,
     "end_time": "2021-04-23T15:07:24.172459",
     "exception": false,
     "start_time": "2021-04-23T15:07:23.197589",
     "status": "completed"
    },
    "tags": []
   },
   "outputs": [],
   "source": [
    "import pandas as pd\n",
    "import matplotlib.pyplot as plt\n",
    "import numpy as np\n",
    "import seaborn as sns"
   ]
  },
  {
   "cell_type": "markdown",
   "id": "comparative-paragraph",
   "metadata": {
    "papermill": {
     "duration": 0.014523,
     "end_time": "2021-04-23T15:07:24.202507",
     "exception": false,
     "start_time": "2021-04-23T15:07:24.187984",
     "status": "completed"
    },
    "tags": []
   },
   "source": []
  },
  {
   "cell_type": "markdown",
   "id": "ruled-helen",
   "metadata": {
    "papermill": {
     "duration": 0.014637,
     "end_time": "2021-04-23T15:07:24.232004",
     "exception": false,
     "start_time": "2021-04-23T15:07:24.217367",
     "status": "completed"
    },
    "tags": []
   },
   "source": [
    "### Importing Data"
   ]
  },
  {
   "cell_type": "code",
   "execution_count": 2,
   "id": "coupled-parcel",
   "metadata": {
    "execution": {
     "iopub.execute_input": "2021-04-23T15:07:24.267849Z",
     "iopub.status.busy": "2021-04-23T15:07:24.266944Z",
     "iopub.status.idle": "2021-04-23T15:07:30.398132Z",
     "shell.execute_reply": "2021-04-23T15:07:30.397613Z"
    },
    "papermill": {
     "duration": 6.151283,
     "end_time": "2021-04-23T15:07:30.398286",
     "exception": false,
     "start_time": "2021-04-23T15:07:24.247003",
     "status": "completed"
    },
    "tags": []
   },
   "outputs": [
    {
     "data": {
      "text/html": [
       "<div>\n",
       "<style scoped>\n",
       "    .dataframe tbody tr th:only-of-type {\n",
       "        vertical-align: middle;\n",
       "    }\n",
       "\n",
       "    .dataframe tbody tr th {\n",
       "        vertical-align: top;\n",
       "    }\n",
       "\n",
       "    .dataframe thead th {\n",
       "        text-align: right;\n",
       "    }\n",
       "</style>\n",
       "<table border=\"1\" class=\"dataframe\">\n",
       "  <thead>\n",
       "    <tr style=\"text-align: right;\">\n",
       "      <th></th>\n",
       "      <th>label</th>\n",
       "      <th>pixel0</th>\n",
       "      <th>pixel1</th>\n",
       "      <th>pixel2</th>\n",
       "      <th>pixel3</th>\n",
       "      <th>pixel4</th>\n",
       "      <th>pixel5</th>\n",
       "      <th>pixel6</th>\n",
       "      <th>pixel7</th>\n",
       "      <th>pixel8</th>\n",
       "      <th>...</th>\n",
       "      <th>pixel774</th>\n",
       "      <th>pixel775</th>\n",
       "      <th>pixel776</th>\n",
       "      <th>pixel777</th>\n",
       "      <th>pixel778</th>\n",
       "      <th>pixel779</th>\n",
       "      <th>pixel780</th>\n",
       "      <th>pixel781</th>\n",
       "      <th>pixel782</th>\n",
       "      <th>pixel783</th>\n",
       "    </tr>\n",
       "  </thead>\n",
       "  <tbody>\n",
       "    <tr>\n",
       "      <th>0</th>\n",
       "      <td>1</td>\n",
       "      <td>0</td>\n",
       "      <td>0</td>\n",
       "      <td>0</td>\n",
       "      <td>0</td>\n",
       "      <td>0</td>\n",
       "      <td>0</td>\n",
       "      <td>0</td>\n",
       "      <td>0</td>\n",
       "      <td>0</td>\n",
       "      <td>...</td>\n",
       "      <td>0</td>\n",
       "      <td>0</td>\n",
       "      <td>0</td>\n",
       "      <td>0</td>\n",
       "      <td>0</td>\n",
       "      <td>0</td>\n",
       "      <td>0</td>\n",
       "      <td>0</td>\n",
       "      <td>0</td>\n",
       "      <td>0</td>\n",
       "    </tr>\n",
       "    <tr>\n",
       "      <th>1</th>\n",
       "      <td>0</td>\n",
       "      <td>0</td>\n",
       "      <td>0</td>\n",
       "      <td>0</td>\n",
       "      <td>0</td>\n",
       "      <td>0</td>\n",
       "      <td>0</td>\n",
       "      <td>0</td>\n",
       "      <td>0</td>\n",
       "      <td>0</td>\n",
       "      <td>...</td>\n",
       "      <td>0</td>\n",
       "      <td>0</td>\n",
       "      <td>0</td>\n",
       "      <td>0</td>\n",
       "      <td>0</td>\n",
       "      <td>0</td>\n",
       "      <td>0</td>\n",
       "      <td>0</td>\n",
       "      <td>0</td>\n",
       "      <td>0</td>\n",
       "    </tr>\n",
       "  </tbody>\n",
       "</table>\n",
       "<p>2 rows × 785 columns</p>\n",
       "</div>"
      ],
      "text/plain": [
       "   label  pixel0  pixel1  pixel2  pixel3  pixel4  pixel5  pixel6  pixel7  \\\n",
       "0      1       0       0       0       0       0       0       0       0   \n",
       "1      0       0       0       0       0       0       0       0       0   \n",
       "\n",
       "   pixel8  ...  pixel774  pixel775  pixel776  pixel777  pixel778  pixel779  \\\n",
       "0       0  ...         0         0         0         0         0         0   \n",
       "1       0  ...         0         0         0         0         0         0   \n",
       "\n",
       "   pixel780  pixel781  pixel782  pixel783  \n",
       "0         0         0         0         0  \n",
       "1         0         0         0         0  \n",
       "\n",
       "[2 rows x 785 columns]"
      ]
     },
     "execution_count": 2,
     "metadata": {},
     "output_type": "execute_result"
    }
   ],
   "source": [
    "train = pd.read_csv(\"../input/digit-recognizer/train.csv\")\n",
    "test = pd.read_csv(\"../input/digit-recognizer/test.csv\")\n",
    "train.head(2)"
   ]
  },
  {
   "cell_type": "code",
   "execution_count": 3,
   "id": "great-swaziland",
   "metadata": {
    "execution": {
     "iopub.execute_input": "2021-04-23T15:07:30.547882Z",
     "iopub.status.busy": "2021-04-23T15:07:30.546093Z",
     "iopub.status.idle": "2021-04-23T15:07:30.548605Z",
     "shell.execute_reply": "2021-04-23T15:07:30.549125Z"
    },
    "papermill": {
     "duration": 0.134771,
     "end_time": "2021-04-23T15:07:30.549318",
     "exception": false,
     "start_time": "2021-04-23T15:07:30.414547",
     "status": "completed"
    },
    "tags": []
   },
   "outputs": [],
   "source": [
    "X=train.drop([\"label\"],axis=1).values\n",
    "Y=train[[\"label\"]].values"
   ]
  },
  {
   "cell_type": "code",
   "execution_count": 4,
   "id": "roman-shoulder",
   "metadata": {
    "execution": {
     "iopub.execute_input": "2021-04-23T15:07:30.603351Z",
     "iopub.status.busy": "2021-04-23T15:07:30.602513Z",
     "iopub.status.idle": "2021-04-23T15:07:30.754208Z",
     "shell.execute_reply": "2021-04-23T15:07:30.753698Z"
    },
    "papermill": {
     "duration": 0.188281,
     "end_time": "2021-04-23T15:07:30.754368",
     "exception": false,
     "start_time": "2021-04-23T15:07:30.566087",
     "status": "completed"
    },
    "tags": []
   },
   "outputs": [
    {
     "data": {
      "text/plain": [
       "<matplotlib.image.AxesImage at 0x7f1b42d26410>"
      ]
     },
     "execution_count": 4,
     "metadata": {},
     "output_type": "execute_result"
    },
    {
     "data": {
      "image/png": "[encoded data removed]",
      "text/plain": [
       "<Figure size 432x288 with 1 Axes>"
      ]
     },
     "metadata": {
      "needs_background": "light"
     },
     "output_type": "display_data"
    }
   ],
   "source": [
    "plt.imshow(X[0].reshape([28,28]))"
   ]
  },
  {
   "cell_type": "code",
   "execution_count": 5,
   "id": "educational-cincinnati",
   "metadata": {
    "execution": {
     "iopub.execute_input": "2021-04-23T15:07:30.809364Z",
     "iopub.status.busy": "2021-04-23T15:07:30.798289Z",
     "iopub.status.idle": "2021-04-23T15:07:30.928571Z",
     "shell.execute_reply": "2021-04-23T15:07:30.927905Z"
    },
    "papermill": {
     "duration": 0.157339,
     "end_time": "2021-04-23T15:07:30.928754",
     "exception": false,
     "start_time": "2021-04-23T15:07:30.771415",
     "status": "completed"
    },
    "tags": []
   },
   "outputs": [
    {
     "data": {
      "text/plain": [
       "<matplotlib.image.AxesImage at 0x7f1b41ff1850>"
      ]
     },
     "execution_count": 5,
     "metadata": {},
     "output_type": "execute_result"
    },
    {
     "data": {
      "image/png": "[encoded data removed]",
      "text/plain": [
       "<Figure size 432x288 with 1 Axes>"
      ]
     },
     "metadata": {
      "needs_background": "light"
     },
     "output_type": "display_data"
    }
   ],
   "source": [
    "plt.imshow(X[19].reshape([28,28]))"
   ]
  },
  {
   "cell_type": "code",
   "execution_count": 6,
   "id": "moving-pontiac",
   "metadata": {
    "execution": {
     "iopub.execute_input": "2021-04-23T15:07:30.971036Z",
     "iopub.status.busy": "2021-04-23T15:07:30.970157Z",
     "iopub.status.idle": "2021-04-23T15:07:30.975257Z",
     "shell.execute_reply": "2021-04-23T15:07:30.974696Z"
    },
    "papermill": {
     "duration": 0.02851,
     "end_time": "2021-04-23T15:07:30.975420",
     "exception": false,
     "start_time": "2021-04-23T15:07:30.946910",
     "status": "completed"
    },
    "tags": []
   },
   "outputs": [
    {
     "name": "stdout",
     "output_type": "stream",
     "text": [
      "(3001, 784)\n",
      "(3001, 1)\n"
     ]
    }
   ],
   "source": [
    "X=X[:3001]    ### Only select limited observation forn anlaysis\n",
    "Y=Y[:3001]\n",
    "print(X.shape)\n",
    "print(Y.shape)"
   ]
  },
  {
   "cell_type": "code",
   "execution_count": 7,
   "id": "novel-multimedia",
   "metadata": {
    "execution": {
     "iopub.execute_input": "2021-04-23T15:07:31.018276Z",
     "iopub.status.busy": "2021-04-23T15:07:31.017128Z",
     "iopub.status.idle": "2021-04-23T15:07:31.026189Z",
     "shell.execute_reply": "2021-04-23T15:07:31.026739Z"
    },
    "papermill": {
     "duration": 0.032668,
     "end_time": "2021-04-23T15:07:31.026915",
     "exception": false,
     "start_time": "2021-04-23T15:07:30.994247",
     "status": "completed"
    },
    "tags": []
   },
   "outputs": [],
   "source": [
    "X=X/255"
   ]
  },
  {
   "cell_type": "markdown",
   "id": "capable-housing",
   "metadata": {
    "papermill": {
     "duration": 0.018024,
     "end_time": "2021-04-23T15:07:31.063676",
     "exception": false,
     "start_time": "2021-04-23T15:07:31.045652",
     "status": "completed"
    },
    "tags": []
   },
   "source": [
    "### Train and Test Split"
   ]
  },
  {
   "cell_type": "code",
   "execution_count": 8,
   "id": "cathedral-helmet",
   "metadata": {
    "execution": {
     "iopub.execute_input": "2021-04-23T15:07:31.106812Z",
     "iopub.status.busy": "2021-04-23T15:07:31.105881Z",
     "iopub.status.idle": "2021-04-23T15:07:31.364002Z",
     "shell.execute_reply": "2021-04-23T15:07:31.363445Z"
    },
    "papermill": {
     "duration": 0.282183,
     "end_time": "2021-04-23T15:07:31.364140",
     "exception": false,
     "start_time": "2021-04-23T15:07:31.081957",
     "status": "completed"
    },
    "tags": []
   },
   "outputs": [],
   "source": [
    "from sklearn.model_selection import train_test_split\n",
    "x_train, x_test, y_train, y_test = train_test_split(X, Y, test_size = 0.15, random_state = 14)"
   ]
  },
  {
   "cell_type": "code",
   "execution_count": 9,
   "id": "bright-denial",
   "metadata": {
    "execution": {
     "iopub.execute_input": "2021-04-23T15:07:31.406692Z",
     "iopub.status.busy": "2021-04-23T15:07:31.405814Z",
     "iopub.status.idle": "2021-04-23T15:07:31.410271Z",
     "shell.execute_reply": "2021-04-23T15:07:31.410754Z"
    },
    "papermill": {
     "duration": 0.028006,
     "end_time": "2021-04-23T15:07:31.410930",
     "exception": false,
     "start_time": "2021-04-23T15:07:31.382924",
     "status": "completed"
    },
    "tags": []
   },
   "outputs": [
    {
     "name": "stdout",
     "output_type": "stream",
     "text": [
      "(2550, 784)\n",
      "(2550, 1)\n",
      "(451, 784)\n",
      "(451, 1)\n"
     ]
    }
   ],
   "source": [
    "print(x_train.shape)\n",
    "print(y_train.shape)\n",
    "print(x_test.shape)\n",
    "print(y_test.shape)"
   ]
  },
  {
   "cell_type": "markdown",
   "id": "tutorial-scanning",
   "metadata": {
    "papermill": {
     "duration": 0.019111,
     "end_time": "2021-04-23T15:07:31.449072",
     "exception": false,
     "start_time": "2021-04-23T15:07:31.429961",
     "status": "completed"
    },
    "tags": []
   },
   "source": [
    "## Decision tree Classifier"
   ]
  },
  {
   "cell_type": "code",
   "execution_count": 10,
   "id": "floral-collectible",
   "metadata": {
    "execution": {
     "iopub.execute_input": "2021-04-23T15:07:31.496090Z",
     "iopub.status.busy": "2021-04-23T15:07:31.495431Z",
     "iopub.status.idle": "2021-04-23T15:07:32.570885Z",
     "shell.execute_reply": "2021-04-23T15:07:32.569945Z"
    },
    "papermill": {
     "duration": 1.100108,
     "end_time": "2021-04-23T15:07:32.571092",
     "exception": false,
     "start_time": "2021-04-23T15:07:31.470984",
     "status": "completed"
    },
    "tags": []
   },
   "outputs": [
    {
     "name": "stdout",
     "output_type": "stream",
     "text": [
      "Training Accuracy : 0.9450980392156862\n",
      "Testing Accuracy : 0.7339246119733924\n"
     ]
    }
   ],
   "source": [
    "from sklearn.tree import DecisionTreeClassifier\n",
    "dt_classifier = DecisionTreeClassifier(criterion = 'entropy',max_depth = 8, random_state = 14)\n",
    "dt_classifier.fit(x_train,y_train)\n",
    "pred_train = dt_classifier.predict(x_train)\n",
    "pred_test = dt_classifier.predict(x_test)\n",
    "from sklearn.metrics import accuracy_score\n",
    "print(\"Training Accuracy :\", accuracy_score(pred_train,y_train))\n",
    "print(\"Testing Accuracy :\", accuracy_score(pred_test,y_test))"
   ]
  },
  {
   "cell_type": "markdown",
   "id": "naked-design",
   "metadata": {
    "papermill": {
     "duration": 0.019391,
     "end_time": "2021-04-23T15:07:32.610986",
     "exception": false,
     "start_time": "2021-04-23T15:07:32.591595",
     "status": "completed"
    },
    "tags": []
   },
   "source": [
    "## Random Forest"
   ]
  },
  {
   "cell_type": "code",
   "execution_count": 11,
   "id": "parallel-teach",
   "metadata": {
    "execution": {
     "iopub.execute_input": "2021-04-23T15:07:32.657550Z",
     "iopub.status.busy": "2021-04-23T15:07:32.656873Z",
     "iopub.status.idle": "2021-04-23T15:07:32.987263Z",
     "shell.execute_reply": "2021-04-23T15:07:32.987878Z"
    },
    "papermill": {
     "duration": 0.357253,
     "end_time": "2021-04-23T15:07:32.988056",
     "exception": false,
     "start_time": "2021-04-23T15:07:32.630803",
     "status": "completed"
    },
    "tags": []
   },
   "outputs": [
    {
     "name": "stderr",
     "output_type": "stream",
     "text": [
      "/opt/conda/lib/python3.7/site-packages/ipykernel_launcher.py:3: DataConversionWarning: A column-vector y was passed when a 1d array was expected. Please change the shape of y to (n_samples,), for example using ravel().\n",
      "  This is separate from the ipykernel package so we can avoid doing imports until\n"
     ]
    },
    {
     "name": "stdout",
     "output_type": "stream",
     "text": [
      "Training Accuracy : 0.9952941176470588\n",
      "Testing Accuracy : 0.8802660753880266\n"
     ]
    }
   ],
   "source": [
    "from sklearn.ensemble import RandomForestClassifier\n",
    "rf_classifier = RandomForestClassifier(n_estimators = 10, criterion = 'entropy',max_depth = 10, random_state =14)\n",
    "rf_classifier.fit(x_train, y_train)\n",
    "pred_train = rf_classifier.predict(x_train)\n",
    "pred_test = rf_classifier.predict(x_test)\n",
    "from sklearn.metrics import accuracy_score\n",
    "print(\"Training Accuracy :\", accuracy_score(pred_train,y_train))\n",
    "print(\"Testing Accuracy :\", accuracy_score(pred_test,y_test))"
   ]
  },
  {
   "cell_type": "markdown",
   "id": "transparent-bulgaria",
   "metadata": {
    "papermill": {
     "duration": 0.021642,
     "end_time": "2021-04-23T15:07:33.029939",
     "exception": false,
     "start_time": "2021-04-23T15:07:33.008297",
     "status": "completed"
    },
    "tags": []
   },
   "source": [
    "## Xgboost Algorithm"
   ]
  },
  {
   "cell_type": "code",
   "execution_count": 12,
   "id": "earlier-values",
   "metadata": {
    "execution": {
     "iopub.execute_input": "2021-04-23T15:07:33.077442Z",
     "iopub.status.busy": "2021-04-23T15:07:33.076670Z",
     "iopub.status.idle": "2021-04-23T15:07:35.441124Z",
     "shell.execute_reply": "2021-04-23T15:07:35.439622Z"
    },
    "papermill": {
     "duration": 2.391007,
     "end_time": "2021-04-23T15:07:35.441335",
     "exception": false,
     "start_time": "2021-04-23T15:07:33.050328",
     "status": "completed"
    },
    "tags": []
   },
   "outputs": [
    {
     "name": "stderr",
     "output_type": "stream",
     "text": [
      "/opt/conda/lib/python3.7/site-packages/xgboost/sklearn.py:1146: UserWarning: The use of label encoder in XGBClassifier is deprecated and will be removed in a future release. To remove this warning, do the following: 1) Pass option use_label_encoder=False when constructing XGBClassifier object; and 2) Encode your labels (y) as integers starting with 0, i.e. 0, 1, 2, ..., [num_class - 1].\n",
      "  warnings.warn(label_encoder_deprecation_msg, UserWarning)\n",
      "/opt/conda/lib/python3.7/site-packages/sklearn/utils/validation.py:63: DataConversionWarning: A column-vector y was passed when a 1d array was expected. Please change the shape of y to (n_samples, ), for example using ravel().\n",
      "  return f(*args, **kwargs)\n"
     ]
    },
    {
     "name": "stdout",
     "output_type": "stream",
     "text": [
      "[15:07:33] WARNING: ../src/learner.cc:1095: Starting in XGBoost 1.3.0, the default evaluation metric used with the objective 'multi:softprob' was changed from 'merror' to 'mlogloss'. Explicitly set eval_metric if you'd like to restore the old behavior.\n",
      "Training Accuracy : 0.9878431372549019\n",
      "Testing Accuracy : 0.8869179600886918\n"
     ]
    }
   ],
   "source": [
    "import xgboost as xgb\n",
    "xg_classifier =xgb.XGBClassifier(n_estimators =5)\n",
    "xg_classifier.fit(x_train, y_train)\n",
    "pred_train = xg_classifier.predict(x_train)\n",
    "pred_test = xg_classifier.predict(x_test)\n",
    "from sklearn.metrics import accuracy_score\n",
    "print(\"Training Accuracy :\", accuracy_score(pred_train,y_train))\n",
    "print(\"Testing Accuracy :\", accuracy_score(pred_test,y_test))"
   ]
  },
  {
   "cell_type": "markdown",
   "id": "needed-century",
   "metadata": {
    "papermill": {
     "duration": 0.021255,
     "end_time": "2021-04-23T15:07:35.486099",
     "exception": false,
     "start_time": "2021-04-23T15:07:35.464844",
     "status": "completed"
    },
    "tags": []
   },
   "source": [
    "## lightgbm Algorithm"
   ]
  },
  {
   "cell_type": "code",
   "execution_count": 13,
   "id": "geographic-qualification",
   "metadata": {
    "execution": {
     "iopub.execute_input": "2021-04-23T15:07:35.535993Z",
     "iopub.status.busy": "2021-04-23T15:07:35.535134Z",
     "iopub.status.idle": "2021-04-23T15:07:52.887505Z",
     "shell.execute_reply": "2021-04-23T15:07:52.888726Z"
    },
    "papermill": {
     "duration": 17.381773,
     "end_time": "2021-04-23T15:07:52.888993",
     "exception": false,
     "start_time": "2021-04-23T15:07:35.507220",
     "status": "completed"
    },
    "tags": []
   },
   "outputs": [
    {
     "data": {
      "text/html": [
       "<style type='text/css'>\n",
       ".datatable table.frame { margin-bottom: 0; }\n",
       ".datatable table.frame thead { border-bottom: none; }\n",
       ".datatable table.frame tr.coltypes td {  color: #FFFFFF;  line-height: 6px;  padding: 0 0.5em;}\n",
       ".datatable .bool    { background: #DDDD99; }\n",
       ".datatable .object  { background: #565656; }\n",
       ".datatable .int     { background: #5D9E5D; }\n",
       ".datatable .float   { background: #4040CC; }\n",
       ".datatable .str     { background: #CC4040; }\n",
       ".datatable .row_index {  background: var(--jp-border-color3);  border-right: 1px solid var(--jp-border-color0);  color: var(--jp-ui-font-color3);  font-size: 9px;}\n",
       ".datatable .frame tr.coltypes .row_index {  background: var(--jp-border-color0);}\n",
       ".datatable th:nth-child(2) { padding-left: 12px; }\n",
       ".datatable .hellipsis {  color: var(--jp-cell-editor-border-color);}\n",
       ".datatable .vellipsis {  background: var(--jp-layout-color0);  color: var(--jp-cell-editor-border-color);}\n",
       ".datatable .na {  color: var(--jp-cell-editor-border-color);  font-size: 80%;}\n",
       ".datatable .footer { font-size: 9px; }\n",
       ".datatable .frame_dimensions {  background: var(--jp-border-color3);  border-top: 1px solid var(--jp-border-color0);  color: var(--jp-ui-font-color3);  display: inline-block;  opacity: 0.6;  padding: 1px 10px 1px 5px;}\n",
       "</style>\n"
      ],
      "text/plain": [
       "<IPython.core.display.HTML object>"
      ]
     },
     "metadata": {},
     "output_type": "display_data"
    },
    {
     "name": "stderr",
     "output_type": "stream",
     "text": [
      "/opt/conda/lib/python3.7/site-packages/sklearn/utils/validation.py:63: DataConversionWarning: A column-vector y was passed when a 1d array was expected. Please change the shape of y to (n_samples, ), for example using ravel().\n",
      "  return f(*args, **kwargs)\n"
     ]
    },
    {
     "name": "stdout",
     "output_type": "stream",
     "text": [
      "Training Accuracy : 1.0\n",
      "Testing Accuracy : 0.9334811529933481\n"
     ]
    }
   ],
   "source": [
    "import lightgbm as lgb\n",
    "lg_classifier=lgb.LGBMClassifier(min_child_samples=10)\n",
    "lg_classifier.fit(x_train, y_train)\n",
    "pred_train = lg_classifier.predict(x_train)\n",
    "pred_test = lg_classifier.predict(x_test)\n",
    "from sklearn.metrics import accuracy_score\n",
    "print(\"Training Accuracy :\", accuracy_score(pred_train,y_train))\n",
    "print(\"Testing Accuracy :\", accuracy_score(pred_test,y_test))"
   ]
  },
  {
   "cell_type": "markdown",
   "id": "composite-brand",
   "metadata": {
    "papermill": {
     "duration": 0.022698,
     "end_time": "2021-04-23T15:07:52.936932",
     "exception": false,
     "start_time": "2021-04-23T15:07:52.914234",
     "status": "completed"
    },
    "tags": []
   },
   "source": [
    "## Voting Classifier  (Stacking)"
   ]
  },
  {
   "cell_type": "code",
   "execution_count": 14,
   "id": "utility-worcester",
   "metadata": {
    "execution": {
     "iopub.execute_input": "2021-04-23T15:07:52.991266Z",
     "iopub.status.busy": "2021-04-23T15:07:52.990565Z",
     "iopub.status.idle": "2021-04-23T15:08:13.699298Z",
     "shell.execute_reply": "2021-04-23T15:08:13.700485Z"
    },
    "papermill": {
     "duration": 20.740342,
     "end_time": "2021-04-23T15:08:13.700708",
     "exception": false,
     "start_time": "2021-04-23T15:07:52.960366",
     "status": "completed"
    },
    "tags": []
   },
   "outputs": [
    {
     "name": "stderr",
     "output_type": "stream",
     "text": [
      "/opt/conda/lib/python3.7/site-packages/sklearn/utils/validation.py:63: DataConversionWarning: A column-vector y was passed when a 1d array was expected. Please change the shape of y to (n_samples, ), for example using ravel().\n",
      "  return f(*args, **kwargs)\n",
      "/opt/conda/lib/python3.7/site-packages/xgboost/sklearn.py:1146: UserWarning: The use of label encoder in XGBClassifier is deprecated and will be removed in a future release. To remove this warning, do the following: 1) Pass option use_label_encoder=False when constructing XGBClassifier object; and 2) Encode your labels (y) as integers starting with 0, i.e. 0, 1, 2, ..., [num_class - 1].\n",
      "  warnings.warn(label_encoder_deprecation_msg, UserWarning)\n"
     ]
    },
    {
     "name": "stdout",
     "output_type": "stream",
     "text": [
      "[15:07:54] WARNING: ../src/learner.cc:1095: Starting in XGBoost 1.3.0, the default evaluation metric used with the objective 'multi:softprob' was changed from 'merror' to 'mlogloss'. Explicitly set eval_metric if you'd like to restore the old behavior.\n",
      "Training Accuracy : 0.9976470588235294\n",
      "Testing Accuracy : 0.9068736141906873\n"
     ]
    }
   ],
   "source": [
    "from sklearn.ensemble import VotingClassifier\n",
    "vt_classifier =VotingClassifier(estimators=[(\"dt\",dt_classifier),(\"rf\",rf_classifier),(\"xgb\",xg_classifier)\n",
    "                                           ,(\"lgbm\",lg_classifier)],voting='hard')\n",
    "vt_classifier.fit(x_train, y_train)\n",
    "pred_train = vt_classifier.predict(x_train)\n",
    "pred_test = vt_classifier.predict(x_test)\n",
    "from sklearn.metrics import accuracy_score\n",
    "print(\"Training Accuracy :\", accuracy_score(pred_train,y_train))\n",
    "print(\"Testing Accuracy :\", accuracy_score(pred_test,y_test))"
   ]
  },
  {
   "cell_type": "markdown",
   "id": "preceding-voluntary",
   "metadata": {
    "papermill": {
     "duration": 0.024079,
     "end_time": "2021-04-23T15:08:13.750058",
     "exception": false,
     "start_time": "2021-04-23T15:08:13.725979",
     "status": "completed"
    },
    "tags": []
   },
   "source": [
    "## Submission for Test data "
   ]
  },
  {
   "cell_type": "code",
   "execution_count": 15,
   "id": "reserved-mauritius",
   "metadata": {
    "execution": {
     "iopub.execute_input": "2021-04-23T15:08:13.804777Z",
     "iopub.status.busy": "2021-04-23T15:08:13.804058Z",
     "iopub.status.idle": "2021-04-23T15:08:14.772558Z",
     "shell.execute_reply": "2021-04-23T15:08:14.771204Z"
    },
    "papermill": {
     "duration": 0.998319,
     "end_time": "2021-04-23T15:08:14.772715",
     "exception": false,
     "start_time": "2021-04-23T15:08:13.774396",
     "status": "completed"
    },
    "tags": []
   },
   "outputs": [],
   "source": [
    "pred = lg_classifier.predict(test)\n",
    "pred_df = pd.DataFrame({'ImageId' : [i for i in range(1, len(pred) + 1)], 'Label' : pred})\n",
    "pred_df.to_csv('submission.csv', header=True, index=False)"
   ]
  }
 ],
 "metadata": {
  "kernelspec": {
   "display_name": "Python 3",
   "language": "python",
   "name": "python3"
  },
  "language_info": {
   "codemirror_mode": {
    "name": "ipython",
    "version": 3
   },
   "file_extension": ".py",
   "mimetype": "text/x-python",
   "name": "python",
   "nbconvert_exporter": "python",
   "pygments_lexer": "ipython3",
   "version": "3.7.10"
  },
  "papermill": {
   "default_parameters": {},
   "duration": 61.903689,
   "end_time": "2021-04-23T15:08:16.572913",
   "environment_variables": {},
   "exception": null,
   "input_path": "__notebook__.ipynb",
   "output_path": "__notebook__.ipynb",
   "parameters": {},
   "start_time": "2021-04-23T15:07:14.669224",
   "version": "2.3.3"
  }
 },
 "nbformat": 4,
 "nbformat_minor": 5
}
